{
 "cells": [
  {
   "cell_type": "markdown",
   "source": [
    "# Piecewsise functions - Library usage\n"
   ],
   "metadata": {
    "collapsed": false
   }
  },
  {
   "cell_type": "markdown",
   "source": [
    "This notebook is a simple walkthrough of this library and what you can do with it\n"
   ],
   "metadata": {
    "collapsed": false
   }
  },
  {
   "cell_type": "markdown",
   "source": [
    "## Features"
   ],
   "metadata": {
    "collapsed": false
   }
  },
  {
   "cell_type": "markdown",
   "source": [
    "The source code is located under `src/PiecewiseFunctions`. You'll find two piecewise functions implemented:\n",
    "1. A piecewise constant function, `PiecewiseConstantFunction`\n",
    "   Defined by the equation $y = b$ over a domain $D = [c,d]$ where $(b,c,d) \\in \\mathbb{R}^3$, where we have multiple definition domain $D$ (defined by the `breakpoints` in the proposed implementations)\n",
    "\n",
    "\n",
    "\n",
    "2. A piecewise linear function, `PiecewiseLinearFunction`\n",
    "    Defined by the equation $y = a*x + b$ over a domain $D = [c,d]$ where $(a,b,c,d) \\in \\mathbb{R}^4$, where we have multiple definition domain $D$ (defined by the `breakpoints` in the proposed implementations)\n",
    "\n",
    "\n",
    "Both inherit from the `PiecewiseFunction` abstract class.\n",
    "\n",
    "Every implementation of a piecewise function implements the 3 following methods:\n",
    "- **Evaluate**\n",
    "```python\n",
    "def evaluate(self, x: float) -> float:\n",
    "    \"\"\" Return the value of the function on the given value if defined, otherwise raise a ValueError \"\"\"\n",
    "    pass\n",
    "```\n",
    "\n",
    "- **Maximum**\n",
    "```python\n",
    "def maximum(self) -> float:\n",
    "    \"\"\" Return the maximum value of the function over its definition domain \"\"\"\n",
    "    pass\n",
    "```\n",
    "\n",
    "- **Minimum**\n",
    "```python\n",
    "def maximum(self) -> float:\n",
    "    \"\"\" Return the minimum value of the function over its definition domain \"\"\"\n",
    "    pass\n",
    "```\n",
    "\n",
    "------------\n",
    "\n",
    "## Example usage\n",
    "### `PiecewiseConstantFunction`\n"
   ],
   "metadata": {
    "collapsed": false
   }
  },
  {
   "cell_type": "code",
   "execution_count": 6,
   "outputs": [],
   "source": [
    "# Imports - path for local test in this project\n",
    "from src.PiecewiseFunctions.PiecewiseConstantFunction import PiecewiseConstantFunction\n",
    "from src.PiecewiseFunctions.PiecewiseLinearFunction import PiecewiseLinearFunction\n",
    "\n",
    "# You can install the library by running\n",
    "# pip install -i https://test.pypi.org/simple/ --no-deps piecewise-functions-fp==0.0.5\n",
    "# And then import it in your project like so:\n",
    "# from PiecewiseFunctions.PiecewiseLinearFunction import PiecewiseLinearFunction\n",
    "\n",
    "from src.PiecewiseFunctions.utils import draw"
   ],
   "metadata": {
    "collapsed": false
   }
  },
  {
   "cell_type": "code",
   "execution_count": 7,
   "outputs": [
    {
     "data": {
      "text/plain": "<Figure size 640x480 with 1 Axes>",
      "image/png": "[encoded data removed]"
     },
     "metadata": {},
     "output_type": "display_data"
    }
   ],
   "source": [
    "piecewise_fn = PiecewiseConstantFunction(\n",
    "        breakpoints=[-100.00, -50, 10, 20, 31.0],\n",
    "        values=[30, 20, 10, -10]\n",
    "    )\n",
    "draw(\n",
    "    piecewise_fn,\n",
    "    x_min=-100,\n",
    "    x_max=30,\n",
    "    num_points=1000,\n",
    "    title=\"Piecewise Constant Function\",\n",
    ")"
   ],
   "metadata": {
    "collapsed": false
   }
  },
  {
   "cell_type": "markdown",
   "source": [
    "The function call wan be understood this way:\n",
    "We have a function whose value is defined as so:\n",
    " $$\n",
    "\n",
    "f(x) = \\left\\{\n",
    "    \\begin{array}{ll}\n",
    "        30 \\mbox{ if } x \\mbox{ \\in } [-100, -50[ \\\\\n",
    "        20 \\mbox{ if } x \\mbox{ \\in } [-50, -10[  \\\\\n",
    "        10 \\mbox{ if } x \\mbox{ \\in } [-10, 20[ \\\\\n",
    "        -10 \\mbox{ if } x \\mbox{ \\in } [20, 31[ \\\\\n",
    "    \\end{array}\n",
    "\\right.\n",
    "$$\n",
    "\n",
    "The domains of definitions are pairs of borders in the `breakpoints` list `[-100.00, -50, 10, 20, 31.0]`, and the constants over those domaines are in the `values` list `[30, 20, 10, -10]`.\n",
    "\n",
    "Note that the function is not defined in 31.\n",
    "\n",
    "#### Minimum & maximum\n",
    "\n",
    "To request the min, (resp. max) value and the $arg_{min}$ (resp. $arg_{max}$) value, use the `minimum()` method (resp. `maximum()`)."
   ],
   "metadata": {
    "collapsed": false
   }
  },
  {
   "cell_type": "code",
   "execution_count": 11,
   "outputs": [
    {
     "name": "stdout",
     "output_type": "stream",
     "text": [
      "Min value = -10 obtained at arg_min = 20 for the Piecewise Constant Function\n",
      "Max value = 30 obtained at arg_max = -100.0 for the Piecewise Constant Function\n"
     ]
    }
   ],
   "source": [
    "min_value, arg_min = piecewise_fn.minimum()\n",
    "max_value, arg_max = piecewise_fn.maximum()\n",
    "print(f\"Min value = {min_value} obtained at arg_min = {arg_min} for the Piecewise Constant Function\")\n",
    "print(f\"Max value = {max_value} obtained at arg_max = {arg_max} for the Piecewise Constant Function\")"
   ],
   "metadata": {
    "collapsed": false
   }
  },
  {
   "cell_type": "markdown",
   "source": [
    "#### Evaluate\n",
    " You can obtain the value of the function on any domain it is defined by running the evaluate function."
   ],
   "metadata": {
    "collapsed": false
   }
  },
  {
   "cell_type": "code",
   "execution_count": 27,
   "outputs": [
    {
     "name": "stdout",
     "output_type": "stream",
     "text": [
      "Value = 20 obtained at arg = -50 for the Piecewise Constant Function\n"
     ]
    }
   ],
   "source": [
    "arg = -50\n",
    "val = piecewise_fn.evaluate(arg)\n",
    "print(f\"Value = {val} obtained at arg = {arg} for the Piecewise Constant Function\")"
   ],
   "metadata": {
    "collapsed": false
   }
  },
  {
   "cell_type": "code",
   "execution_count": null,
   "outputs": [],
   "source": [],
   "metadata": {
    "collapsed": false
   }
  }
 ],
 "metadata": {
  "kernelspec": {
   "display_name": "Python 3",
   "language": "python",
   "name": "python3"
  },
  "language_info": {
   "codemirror_mode": {
    "name": "ipython",
    "version": 2
   },
   "file_extension": ".py",
   "mimetype": "text/x-python",
   "name": "python",
   "nbconvert_exporter": "python",
   "pygments_lexer": "ipython2",
   "version": "2.7.6"
  }
 },
 "nbformat": 4,
 "nbformat_minor": 0
}
